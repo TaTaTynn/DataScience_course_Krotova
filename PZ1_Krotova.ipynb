{
 "cells": [
  {
   "cell_type": "markdown",
   "id": "78e5ce7c",
   "metadata": {},
   "source": [
    "# Задание 1\n",
    "Дана переменная, в которой хранится слово из латинских букв. Напишите код, который выводит на экран:\n",
    "\n",
    "·         среднюю букву, если число букв в слове нечетное;\n",
    "\n",
    "·         две средних буквы, если число букв четное.\n",
    "\n",
    "<i>Примеры работы программы:</i>\n",
    "\n",
    "1.word = 'test’\n",
    "Результат:\n",
    "es\n",
    "\n",
    "1.word = 'testing’\n",
    "Результат:\n",
    "t\n",
    "## Решение:"
   ]
  },
  {
   "cell_type": "code",
   "execution_count": 9,
   "id": "bcdd3526",
   "metadata": {},
   "outputs": [
    {
     "name": "stdout",
     "output_type": "stream",
     "text": [
      "yp\n"
     ]
    }
   ],
   "source": [
    "word = 'type'\n",
    "ind=len(word)/2\n",
    "if ind.is_integer():\n",
    "    ind=int(ind)\n",
    "    print(word[ind-1:ind+1])\n",
    "else:\n",
    "    print(word[round(ind)])"
   ]
  },
  {
   "cell_type": "code",
   "execution_count": 12,
   "id": "a408a824",
   "metadata": {},
   "outputs": [
    {
     "name": "stdout",
     "output_type": "stream",
     "text": [
      "b\n"
     ]
    }
   ],
   "source": [
    "word = 'table'\n",
    "ind=len(word)/2\n",
    "if ind.is_integer():\n",
    "    ind=int(ind)\n",
    "    print(word[ind-1:ind+1])\n",
    "else:\n",
    "    print(word[round(ind)])"
   ]
  },
  {
   "cell_type": "markdown",
   "id": "32a43f22",
   "metadata": {
    "tags": []
   },
   "source": [
    "# Задание 2\n",
    "Напишите программу, которая последовательно запрашивает у пользователя числа (по одному за раз) и после первого нуля выводит сумму всех ранее введенных чисел.\n",
    "\n",
    "<i>Примеры работы программы:</i>\n",
    "\n",
    "Введите число:\n",
    "1\n",
    "\n",
    "Введите число:\n",
    "4\n",
    "\n",
    "Введите число:\n",
    "6\n",
    "\n",
    "Введите число:\n",
    "0\n",
    "Результат:\n",
    "11\n",
    "\n",
    "Введите число:\n",
    "0\n",
    "Результат:\n",
    "0\n",
    "\n",
    "## Решение:"
   ]
  },
  {
   "cell_type": "markdown",
   "id": "2542fa23-499d-4cd9-a694-a388f60ba0c4",
   "metadata": {},
   "source": [
    "<i>Для выхода из цикла и завершения программы предусмотрим ввод двух нулей</i>"
   ]
  },
  {
   "cell_type": "code",
   "execution_count": 9,
   "id": "dbe1111a-0599-4ee2-a8c6-d3e063103748",
   "metadata": {},
   "outputs": [
    {
     "name": "stdin",
     "output_type": "stream",
     "text": [
      "Введите число:  1\n",
      "Введите число:  2\n",
      "Введите число:  3\n",
      "Введите число:  0\n"
     ]
    },
    {
     "name": "stdout",
     "output_type": "stream",
     "text": [
      "Результат:  6\n"
     ]
    },
    {
     "name": "stdin",
     "output_type": "stream",
     "text": [
      "Введите число:  -5\n",
      "Введите число:  1\n",
      "Введите число:  0\n"
     ]
    },
    {
     "name": "stdout",
     "output_type": "stream",
     "text": [
      "Результат:  2\n"
     ]
    },
    {
     "name": "stdin",
     "output_type": "stream",
     "text": [
      "Введите число:  00\n"
     ]
    },
    {
     "name": "stdout",
     "output_type": "stream",
     "text": [
      "Конец\n"
     ]
    }
   ],
   "source": [
    "sum = 0\n",
    "while 1:\n",
    "    inc = input('Введите число: ')\n",
    "    if inc=='00':\n",
    "        break\n",
    "    inc=eval(inc)\n",
    "    sum = sum + inc\n",
    "    if inc == 0:\n",
    "        print('Результат: ', sum)\n",
    "print('Конец')"
   ]
  },
  {
   "cell_type": "markdown",
   "id": "b6ad3185",
   "metadata": {
    "tags": []
   },
   "source": [
    "# Задание 3\n",
    "Мы делаем  dating-сервиса, и у нас есть список парней и девушек.\n",
    "Выдвигаем гипотезу: лучшие рекомендации мы получим, если просто отсортируем имена по алфавиту и познакомим людей с одинаковыми индексами после сортировки! Но мы не будем никого знакомить, если кто-то может остаться без пары:\n",
    "\n",
    "Примеры работы программы:\n",
    "1.\n",
    "boys = [‘Peter’, ‘Alex’, ‘John’, ‘Arthur’, ‘Richard’]\n",
    "girls = [‘Kate’, ‘Liza’, ‘Kira’, ‘Emma’, ‘Trisha’]\n",
    "\n",
    "<i>Результат:</i>\n",
    "Идеальные пары:\n",
    "Alex и Emma\n",
    "Arthur и Kate\n",
    "John и Kira\n",
    "Peter и Liza\n",
    "Richard и Trisha\n",
    "\n",
    "2.\n",
    "boys = [‘Peter’, ‘Alex’, ‘John’, ‘Arthur’, ‘Richard’, ‘Michael’]\n",
    "girls = [‘Kate’, ‘Liza’, ‘Kira’, ‘Emma’, ‘Trisha’]\n",
    "\n",
    "Результат:\n",
    "Внимание, кто-то может остаться без пары!\n",
    "## Решение:"
   ]
  },
  {
   "cell_type": "markdown",
   "id": "14ce09e3-4525-4e43-8736-ed97cd1a14ce",
   "metadata": {},
   "source": [
    "<i>Определим вспомогательную функцию sort(), которая будет сортировать наши списки имен:</i>"
   ]
  },
  {
   "cell_type": "code",
   "execution_count": 11,
   "id": "c5c186a2-421a-48b4-9f58-35ea1870f209",
   "metadata": {},
   "outputs": [],
   "source": [
    "def sort(u):\n",
    "    for i in range(len(u)):\n",
    "        for j in range(i+1,len(u)):\n",
    "            if u[i]>u[j]:\n",
    "                buff=u[i]\n",
    "                u[i]=u[j]\n",
    "                u[j]=buff\n",
    "    return u"
   ]
  },
  {
   "cell_type": "markdown",
   "id": "590a1d29-f5f2-4fcd-8bc5-0eb87b68afd4",
   "metadata": {},
   "source": [
    "Теперь напишем основную программу и проверим ее на двух наборах исходных данных:"
   ]
  },
  {
   "cell_type": "code",
   "execution_count": 14,
   "id": "6afcd4c7-0a1f-47ae-b68e-fd8ca6cdc460",
   "metadata": {},
   "outputs": [],
   "source": [
    "def dating(boys,girls):\n",
    "    if len(boys)==len(girls):\n",
    "        sort(boys)\n",
    "        sort(girls)\n",
    "        print('Идеальные пары:')\n",
    "        for i in range(len(boys)):\n",
    "            print(boys[i]+' и '+girls[i])\n",
    "    else:\n",
    "        print('Внимание, кто-то может остаться без пары!')"
   ]
  },
  {
   "cell_type": "code",
   "execution_count": 15,
   "id": "82caa9a1-36d2-4c7b-8f7a-9e3fb6da3b4a",
   "metadata": {},
   "outputs": [
    {
     "name": "stdout",
     "output_type": "stream",
     "text": [
      "Идеальные пары:\n",
      "Alex и Emma\n",
      "Arthur и Kate\n",
      "John и Kira\n",
      "Peter и Liza\n",
      "Richard и Trisha\n"
     ]
    }
   ],
   "source": [
    "boys = ['Peter', 'Alex', 'John', 'Arthur', 'Richard']\n",
    "girls = ['Kate', 'Liza', 'Kira', 'Emma', 'Trisha']\n",
    "\n",
    "dating(boys,girls)"
   ]
  },
  {
   "cell_type": "code",
   "execution_count": 16,
   "id": "b5e6217a-f1df-46ce-9fe7-4f8712f31b2e",
   "metadata": {},
   "outputs": [
    {
     "name": "stdout",
     "output_type": "stream",
     "text": [
      "Внимание, кто-то может остаться без пары!\n"
     ]
    }
   ],
   "source": [
    "boys = ['Peter', 'Alex', 'John', 'Arthur', 'Richard','Michael']\n",
    "girls = ['Kate', 'Liza', 'Kira', 'Emma', 'Trisha']\n",
    "\n",
    "dating(boys,girls)"
   ]
  },
  {
   "cell_type": "markdown",
   "id": "a786e34f",
   "metadata": {
    "tags": []
   },
   "source": [
    "# Задание 4\n",
    "У нас есть список, содержащий информацию о среднедневной температуре в Фаренгейтах за произвольный период по странам (структура данных в примере). Необходимо написать код, который рассчитает среднюю температуру за период в Цельсиях(!) для каждой страны.\n",
    "\n",
    "<i>Пример работы программы:</i>\n",
    "\n",
    "countries_temperature = [\n",
    "[‘Thailand’, [75.2, 77, 78.8, 73.4, 68, 75.2, 77]],\n",
    "[‘Germany’, [57.2, 55.4, 59, 59, 53.6]],\n",
    "[‘Russia’, [35.6, 37.4, 39.2, 41, 42.8, 39.2, 35.6]],\n",
    "[‘Poland’, [50, 50, 53.6, 57.2, 55.4, 55.4]]\n",
    "]\n",
    "Результат:\n",
    "\n",
    "Средняя температура в странах:\n",
    "Thailand - 23.9 С\n",
    "Germany - 13.8 С\n",
    "Russia - 3.7 С\n",
    "Poland - 12.0 С\n",
    "## Решение:"
   ]
  },
  {
   "cell_type": "markdown",
   "id": "9fbf1397-91e7-42cc-8d7a-9f339075b55c",
   "metadata": {},
   "source": [
    "<i>Сделаем функцию, переводящую градусы в Фаренгейтах в градусы Цельсия с точностью до одного знака после запятой:</i>"
   ]
  },
  {
   "cell_type": "code",
   "execution_count": 25,
   "id": "95701551-160c-4765-8616-fbcf000cfb4f",
   "metadata": {},
   "outputs": [],
   "source": [
    "def celsium(F):\n",
    "    C=(F-32)*5/9\n",
    "    return round(C,1)"
   ]
  },
  {
   "cell_type": "code",
   "execution_count": null,
   "id": "c7aadf84-9ead-40c7-a50f-acfc0bd44806",
   "metadata": {},
   "outputs": [],
   "source": [
    "Будем перебирать элементы массива и считать среднее арифметическое численных значений в каждой строке, а затем переводить его в градусы Цельсия."
   ]
  },
  {
   "cell_type": "code",
   "execution_count": 26,
   "id": "b8f4d1b5-098d-406c-846f-b7b0f6f280c6",
   "metadata": {},
   "outputs": [
    {
     "name": "stdout",
     "output_type": "stream",
     "text": [
      "Thailand - 23.9\n",
      "Germany - 13.8\n",
      "Russia - 3.7\n",
      "Poland - 12.0\n"
     ]
    }
   ],
   "source": [
    "countries_temperature = [ ['Thailand', [75.2, 77, 78.8, 73.4, 68, 75.2, 77]], \\\n",
    "                            ['Germany', [57.2, 55.4, 59, 59, 53.6]], \\\n",
    "                            ['Russia', [35.6, 37.4, 39.2, 41, 42.8, 39.2, 35.6]], \\\n",
    "                            ['Poland', [50, 50, 53.6, 57.2, 55.4, 55.4]] ]\n",
    "\n",
    "for i in range(len(countries_temperature)):\n",
    "    sum = 0\n",
    "    for j in range(len(countries_temperature[i])):\n",
    "        for k in range(len(countries_temperature[i][j])):\n",
    "            if type(countries_temperature[i][j][k]) == str:\n",
    "                break\n",
    "            sum = sum + countries_temperature[i][j][k]\n",
    "        if sum != 0:\n",
    "            print((countries_temperature[i][0]), \"-\", celsium(sum / len(countries_temperature[i][j])))"
   ]
  },
  {
   "cell_type": "markdown",
   "id": "9a1b024e",
   "metadata": {},
   "source": [
    "# Задание 5\n",
    "Дана переменная, в которой хранится словарь, содержащий гео-метки для каждого пользователя (пример структуры данных приведен ниже). Вам необходимо написать программу, которая выведет на экран множество уникальных гео-меток всех пользователей.\n",
    "\n",
    "<i>Пример работы программы:</i>\n",
    "\n",
    "ids = {‘user1’: [213, 213, 213, 15, 213],\n",
    "‘user2’: [54, 54, 119, 119, 119],\n",
    "‘user3’: [213, 98, 98, 35]}\n",
    "Результат: {98, 35, 15, 213, 54, 119}\n",
    "## Решение:"
   ]
  },
  {
   "cell_type": "code",
   "execution_count": 30,
   "id": "ed46f15b-692e-49bf-af80-84fc3b45693b",
   "metadata": {},
   "outputs": [
    {
     "name": "stdout",
     "output_type": "stream",
     "text": [
      "Результат: {98, 35, 130, 235, 15, 213, 54, 119, 30}\n"
     ]
    }
   ],
   "source": [
    "    ids = {'user1': [213, 213, 213, 15, 213], \\\n",
    "            'user2': [54, 54, 119, 119, 119], \\\n",
    "            'user3': [213, 98, 98, 35],\\\n",
    "            'user4': [235, 98, 130, 15, 119, 30]}\n",
    "    values=ids.values()\n",
    "    alls=[]\n",
    "    for val in values:\n",
    "        alls+=val\n",
    "    print('Результат:',set(alls))"
   ]
  },
  {
   "cell_type": "markdown",
   "id": "5fd3b8f7",
   "metadata": {
    "tags": []
   },
   "source": [
    "# Задание 6\n",
    "Дана переменная, в которой хранится список поисковых запросов пользователя (пример структуры данных приведен ниже). Вам необходимо написать программу, которая выведет на экран распределение количества слов в запросах в требуемом виде.\n",
    "\n",
    "Пример работы программы:\n",
    "\n",
    "queries = [\n",
    "‘смотреть сериалы онлайн’,\n",
    "‘новости спорта’,\n",
    "‘афиша кино’,\n",
    "‘курс доллара’,\n",
    "‘сериалы этим летом’,\n",
    "‘курс по питону’,\n",
    "‘сериалы про спорт’,\n",
    "]\n",
    "Результат:\n",
    "\n",
    "Поисковых запросов, содержащих 2 слов(а): 42.86%\n",
    "Поисковых запросов, содержащих 3 слов(а): 57.14%\n",
    "## Решение:"
   ]
  },
  {
   "cell_type": "markdown",
   "id": "2aaf393c-391e-4ce5-b2e6-3663575270a4",
   "metadata": {},
   "source": [
    "Вспомогательная функция coumt_words() считает, сколько слов в строке с учетом двойных и лишних пробелов:"
   ]
  },
  {
   "cell_type": "code",
   "execution_count": 32,
   "id": "e551cb9d-13f5-4e6a-badd-57f42b79b4cd",
   "metadata": {},
   "outputs": [],
   "source": [
    "def count_words(word):\n",
    "    if word == '':\n",
    "        return 0\n",
    "    count = 1\n",
    "    for i in range(len(word)):\n",
    "        if (word[i] == ' ') & (word[i - 1] != ' ') & (i > 0) & (i != len(word) - 1):\n",
    "            count += 1\n",
    "    return count"
   ]
  },
  {
   "cell_type": "markdown",
   "id": "296c1d56-93f2-45ba-a7a0-0a6e818176e6",
   "metadata": {},
   "source": [
    "Основная программа:"
   ]
  },
  {
   "cell_type": "code",
   "execution_count": 37,
   "id": "20361e89-f6f7-4a9a-b3aa-8253331c9d51",
   "metadata": {},
   "outputs": [
    {
     "name": "stdout",
     "output_type": "stream",
     "text": [
      "Поисковых запросов, содержащих 1 слов(а): 20.0%\n",
      "Поисковых запросов, содержащих 2 слов(а): 30.0%\n",
      "Поисковых запросов, содержащих 3 слов(а): 40.0%\n",
      "Поисковых запросов, содержащих 4 слов(а): 10.0%\n"
     ]
    }
   ],
   "source": [
    "    queries = ['смотреть  сериалы онлайн ', 'новости спорта',\\\n",
    "               'афиша кино', 'курс доллара', 'сериалы этим летом',\\\n",
    "               'курс по питону', 'сериалы про  спорт', 'IDE',\\\n",
    "               'новости', 'и или не логика']\n",
    "    lens = []\n",
    "    for query in queries:\n",
    "        lens.append(count_words(query))\n",
    "    lens=sorted(lens)\n",
    "    count=1\n",
    "    for i in range(1,len(lens)):\n",
    "        if lens[i]!=lens[i-1]:\n",
    "            print('Поисковых запросов, содержащих ',lens[i-1],' слов(а): ',round(count/len(lens)*100,1),'%',sep='')\n",
    "            count=1\n",
    "        else:\n",
    "            count+=1\n",
    "        if i==len(lens)-1:\n",
    "            print('Поисковых запросов, содержащих ', lens[i], ' слов(а): ', round(count / len(lens) * 100, 1), '%', sep='')"
   ]
  },
  {
   "cell_type": "markdown",
   "id": "c5753b3a",
   "metadata": {},
   "source": [
    "# Задание 7\n",
    "Дана переменная, в которой хранится информация о затратах и доходе рекламных кампаний по различным источникам. Необходимо дополнить исходную структуру показателем ROI, который рассчитаем по формуле: (revenue / cost - 1) * 100\n",
    "\n",
    "Пример работы программы:\n",
    "\n",
    "results = {\n",
    "‘vk’: {‘revenue’: 103, ‘cost’: 98},\n",
    "‘yandex’: {‘revenue’: 179, ‘cost’: 153},\n",
    "‘facebook’: {‘revenue’: 103, ‘cost’: 110},\n",
    "‘adwords’: {‘revenue’: 35, ‘cost’: 34},\n",
    "‘twitter’: {‘revenue’: 11, ‘cost’: 24},\n",
    "}\n",
    "Результат:\n",
    "\n",
    "{‘adwords’: {‘revenue’: 35, ‘cost’: 34, ‘ROI’: 2.94},\n",
    "‘facebook’: {‘revenue’: 103, ‘cost’: 110, ‘ROI’: -6.36},\n",
    "‘twitter’: {‘revenue’: 11, ‘cost’: 24, ‘ROI’: -54.17},\n",
    "‘vk’: {‘revenue’: 103, ‘cost’: 98, ‘ROI’: 5.1},\n",
    "‘yandex’: {‘revenue’: 179, ‘cost’: 153, ‘ROI’: 16.99}}\n",
    "## Решение:"
   ]
  },
  {
   "cell_type": "code",
   "execution_count": 41,
   "id": "9420fa4d-5ef4-4e78-97ed-0d6c0253fe7e",
   "metadata": {},
   "outputs": [
    {
     "name": "stdout",
     "output_type": "stream",
     "text": [
      "adwords: {'revenue': 35, 'cost': 34, 'ROI': 2.94}\n",
      "facebook: {'revenue': 103, 'cost': 110, 'ROI': -6.36}\n",
      "twitter: {'revenue': 11, 'cost': 24, 'ROI': -54.17}\n",
      "vk: {'revenue': 103, 'cost': 98, 'ROI': 5.1}\n",
      "yandex: {'revenue': 179, 'cost': 153, 'ROI': 16.99}\n"
     ]
    }
   ],
   "source": [
    "    results = {'vk': {'revenue': 103, 'cost': 98}, \\\n",
    "               'yandex': {'revenue': 179, 'cost': 153}, \\\n",
    "               'facebook': {'revenue': 103, 'cost': 110}, \\\n",
    "               'adwords': {'revenue': 35, 'cost': 34}, \\\n",
    "               'twitter': {'revenue': 11, 'cost': 24}}\n",
    "\n",
    "    keys = sorted(results.keys())\n",
    "    for i in range(len(results)):\n",
    "        results[keys[i]]['ROI'] = round(\n",
    "            (results.get(keys[i]).get('revenue') / results.get(keys[i]).get('cost') - 1) * 100, 2)\n",
    "        print('{}: {}'.format(keys[i],results[keys[i]]))"
   ]
  },
  {
   "cell_type": "markdown",
   "id": "e8a97ff9",
   "metadata": {},
   "source": [
    "# Задание 8\n",
    "Дана переменная, в которой хранится статистика рекламных каналов по объемам продаж (пример структуры данных приведен ниже). Напишите программу, которая возвращает название канала с максимальным объемом продаж.\n",
    "\n",
    "Пример работы программы:\n",
    "\n",
    "stats = {‘facebook’: 55, ‘yandex’: 115, ‘vk’: 120, ‘google’: 99, ‘email’: 42, ‘ok’: 98}\n",
    "\n",
    "Результат: Максимальный объем продаж на рекламном канале: vk\n",
    "## Решение:"
   ]
  },
  {
   "cell_type": "code",
   "execution_count": 43,
   "id": "6231a847",
   "metadata": {},
   "outputs": [
    {
     "name": "stdout",
     "output_type": "stream",
     "text": [
      "Максимальный объем продаж на рекламном канале: vk\n"
     ]
    }
   ],
   "source": [
    "    stats = {'facebook': 55, 'yandex': 115, 'vk': 120, 'google': 99, 'email': 42, 'ok': 98 }\n",
    "\n",
    "    maks=max(stats.values())\n",
    "    keys=list(stats.keys())\n",
    "    for i in range(len(stats)):\n",
    "        if stats.get(keys[i])==maks:\n",
    "            print('Максимальный объем продаж на рекламном канале:', keys[i])"
   ]
  }
 ],
 "metadata": {
  "kernelspec": {
   "display_name": "Python 3 (ipykernel)",
   "language": "python",
   "name": "python3"
  },
  "language_info": {
   "codemirror_mode": {
    "name": "ipython",
    "version": 3
   },
   "file_extension": ".py",
   "mimetype": "text/x-python",
   "name": "python",
   "nbconvert_exporter": "python",
   "pygments_lexer": "ipython3",
   "version": "3.9.7"
  }
 },
 "nbformat": 4,
 "nbformat_minor": 5
}
